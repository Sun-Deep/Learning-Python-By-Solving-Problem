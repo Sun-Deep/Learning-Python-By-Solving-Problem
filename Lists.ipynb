{
 "cells": [
  {
   "cell_type": "markdown",
   "metadata": {},
   "source": [
    "Consider a list (list = []). You can perform the following commands:\n",
    "\n",
    "1. insert i e: Insert integer  at position . <br>\n",
    "2. print: Print the list. <br>\n",
    "3. remove e: Delete the first occurrence of integer .<br>\n",
    "4. append e: Insert integer  at the end of the list.<br>\n",
    "5. sort: Sort the list.<br>\n",
    "6. pop: Pop the last element from the list.<br>\n",
    "7. reverse: Reverse the list.<br>\n",
    "Initialize your list and read in the value of  followed by  lines of commands where each command will be of the  types listed above. Iterate through each command in order and perform the corresponding operation on your list."
   ]
  },
  {
   "cell_type": "code",
   "execution_count": 1,
   "metadata": {},
   "outputs": [
    {
     "name": "stdout",
     "output_type": "stream",
     "text": [
      "12\n",
      "insert 0 5\n",
      "insert 1 10\n",
      "insert 0 6\n",
      "print\n",
      "[6, 5, 10]\n",
      "remove 6\n",
      "append 9\n",
      "append 1\n",
      "sort\n",
      "print\n",
      "[1, 5, 9, 10]\n",
      "pop\n",
      "reverse\n",
      "print\n",
      "[9, 5, 1]\n"
     ]
    }
   ],
   "source": [
    "b = []\n",
    "if __name__ == '__main__':\n",
    "    N = int(input())\n",
    "    for _ in range(N):\n",
    "        a = input().split()\n",
    "        if len(a) == 3:\n",
    "            eval(\"b.\"+ a[0] +\"(\"+ a[1] +\", \"+ a[2] +\")\")\n",
    "        elif len(a) == 2:\n",
    "            eval(\"b.\"+ a[0] +\"(\"+ a[1] +\")\")\n",
    "        elif a[0] == \"print\":\n",
    "            print(b)\n",
    "        else:\n",
    "            eval(\"b.\"+ a[0] +\"()\")"
   ]
  },
  {
   "cell_type": "code",
   "execution_count": null,
   "metadata": {},
   "outputs": [],
   "source": []
  }
 ],
 "metadata": {
  "kernelspec": {
   "display_name": "Python 3",
   "language": "python",
   "name": "python3"
  },
  "language_info": {
   "codemirror_mode": {
    "name": "ipython",
    "version": 3
   },
   "file_extension": ".py",
   "mimetype": "text/x-python",
   "name": "python",
   "nbconvert_exporter": "python",
   "pygments_lexer": "ipython3",
   "version": "3.7.4"
  }
 },
 "nbformat": 4,
 "nbformat_minor": 2
}
