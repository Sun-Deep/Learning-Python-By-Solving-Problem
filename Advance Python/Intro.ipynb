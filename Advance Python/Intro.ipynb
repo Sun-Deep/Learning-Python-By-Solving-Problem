{
 "cells": [
  {
   "cell_type": "code",
   "execution_count": 3,
   "metadata": {},
   "outputs": [],
   "source": [
    "# making class\n",
    "\n",
    "class Dog:\n",
    "    def __init__(self):\n",
    "        self.bark()\n",
    "\n",
    "# bark method is not defined before but still we will not get any error as method not defined for bark()"
   ]
  },
  {
   "cell_type": "code",
   "execution_count": 4,
   "metadata": {},
   "outputs": [],
   "source": [
    "# we can make class inside of method\n",
    "\n",
    "def make_calss(x):\n",
    "    class Dog:\n",
    "        def __init__(self, name):\n",
    "            self.name = name\n",
    "        \n",
    "        def print_value(self):\n",
    "            print(x)\n",
    "    return Dog"
   ]
  },
  {
   "cell_type": "code",
   "execution_count": 5,
   "metadata": {},
   "outputs": [
    {
     "name": "stdout",
     "output_type": "stream",
     "text": [
      "<class '__main__.make_calss.<locals>.Dog'>\n"
     ]
    }
   ],
   "source": [
    "cls = make_calss(10)\n",
    "print(cls)"
   ]
  },
  {
   "cell_type": "code",
   "execution_count": 11,
   "metadata": {},
   "outputs": [
    {
     "name": "stdout",
     "output_type": "stream",
     "text": [
      "10\n"
     ]
    }
   ],
   "source": [
    "cls(\"Sandeep\").print_value()"
   ]
  },
  {
   "cell_type": "code",
   "execution_count": null,
   "metadata": {},
   "outputs": [],
   "source": []
  }
 ],
 "metadata": {
  "kernelspec": {
   "display_name": "Python 3",
   "language": "python",
   "name": "python3"
  },
  "language_info": {
   "codemirror_mode": {
    "name": "ipython",
    "version": 3
   },
   "file_extension": ".py",
   "mimetype": "text/x-python",
   "name": "python",
   "nbconvert_exporter": "python",
   "pygments_lexer": "ipython3",
   "version": "3.7.4"
  }
 },
 "nbformat": 4,
 "nbformat_minor": 2
}
